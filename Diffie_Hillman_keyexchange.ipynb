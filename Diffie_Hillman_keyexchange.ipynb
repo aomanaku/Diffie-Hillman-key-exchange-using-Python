{
  "nbformat": 4,
  "nbformat_minor": 0,
  "metadata": {
    "colab": {
      "provenance": []
    },
    "kernelspec": {
      "name": "python3",
      "display_name": "Python 3"
    },
    "language_info": {
      "name": "python"
    }
  },
  "cells": [
    {
      "cell_type": "markdown",
      "metadata": {
        "id": "UmSv4Ql-Qiic"
      },
      "source": [
        "##CS-4476-Cryptography and Network Security\n",
        " 'Diffie Hillman Key exchange'\n",
        " "
      ]
    },
    {
      "cell_type": "code",
      "metadata": {
        "id": "LDZAf3SuQyjw"
      },
      "source": [
        "#p = 2399 and α = 11.\n",
        "p = 2399\n",
        "g=11"
      ],
      "execution_count": 1,
      "outputs": []
    },
    {
      "cell_type": "code",
      "metadata": {
        "id": "ckYCMXiyQ8rY"
      },
      "source": [
        "#consider private key for a = 5, b = 7\n",
        "privatekeyA=5\n",
        "privatekeyB=7"
      ],
      "execution_count": 2,
      "outputs": []
    },
    {
      "cell_type": "code",
      "metadata": {
        "colab": {
          "base_uri": "https://localhost:8080/"
        },
        "id": "zNKhCv6eWMZT",
        "outputId": "a0adf45a-9674-4a9f-8b35-756f0a4a0d86"
      },
      "source": [
        "print(privatekeyA)\n",
        "print(privatekeyB)"
      ],
      "execution_count": 3,
      "outputs": [
        {
          "output_type": "stream",
          "name": "stdout",
          "text": [
            "5\n",
            "7\n"
          ]
        }
      ]
    },
    {
      "cell_type": "code",
      "metadata": {
        "id": "k1jo5m1aReiR"
      },
      "source": [
        "def findKey(key):\n",
        "\n",
        "    ga= g**key % p\n",
        "    return ga\n"
      ],
      "execution_count": 4,
      "outputs": []
    },
    {
      "cell_type": "code",
      "metadata": {
        "colab": {
          "base_uri": "https://localhost:8080/"
        },
        "id": "XH95VmzARlsV",
        "outputId": "2a5eb6c6-ccba-466b-c23a-bef72941a34c"
      },
      "source": [
        "keyA=findKey(privatekeyA)\n",
        "keyB=findKey(privatekeyB)\n",
        "print(keyA)\n",
        "print(keyB)"
      ],
      "execution_count": 5,
      "outputs": [
        {
          "output_type": "stream",
          "name": "stdout",
          "text": [
            "318\n",
            "94\n"
          ]
        }
      ]
    },
    {
      "cell_type": "code",
      "metadata": {
        "id": "fxYZJy1PS4ja"
      },
      "source": [
        "def SharedKey(privatekey,key):\n",
        "  s = key ** privatekey % p\n",
        "  return s"
      ],
      "execution_count": 6,
      "outputs": []
    },
    {
      "cell_type": "code",
      "metadata": {
        "id": "ia78JXN2Uhrh"
      },
      "source": [
        "keyshareA= SharedKey(privatekeyA,keyB) #shared key for a"
      ],
      "execution_count": 7,
      "outputs": []
    },
    {
      "cell_type": "code",
      "metadata": {
        "id": "aatMbg8CUo4v"
      },
      "source": [
        "keysharedB= SharedKey(privatekeyB,keyA) #shared key for b"
      ],
      "execution_count": 8,
      "outputs": []
    },
    {
      "cell_type": "code",
      "metadata": {
        "colab": {
          "base_uri": "https://localhost:8080/"
        },
        "id": "i7nbMEmsl8Pu",
        "outputId": "f5d4dfce-f8e9-4f95-9d9c-d773618d53e6"
      },
      "source": [
        "#common key\n",
        "print(keyshareA)\n",
        "print(keysharedB) # both the keys should be the same "
      ],
      "execution_count": 9,
      "outputs": [
        {
          "output_type": "stream",
          "name": "stdout",
          "text": [
            "232\n",
            "232\n"
          ]
        }
      ]
    },
    {
      "cell_type": "code",
      "metadata": {
        "id": "QbkP41aGllEZ"
      },
      "source": [
        "def DecimalToBinary(num):\n",
        "    digit = ''\n",
        "    if num > 1:\n",
        "        digit = DecimalToBinary(num // 2)\n",
        "    \n",
        "    return digit+str(num % 2)"
      ],
      "execution_count": 10,
      "outputs": []
    },
    {
      "cell_type": "code",
      "metadata": {
        "id": "3duYIjDntXYS"
      },
      "source": [
        "message = \"ABC how you doing .,?()\""
      ],
      "execution_count": 11,
      "outputs": []
    },
    {
      "cell_type": "code",
      "metadata": {
        "id": "YajIPV-j53Qt"
      },
      "source": [
        "#converts string to 5 bit binary\n",
        "def stringTodigit(message):\n",
        "  binarystring = ''\n",
        "  message = message.lower()\n",
        "  for i in message:\n",
        "    charnum=ord(i)-97\n",
        "    if charnum == -65:\n",
        "       charnum = 26\n",
        "    elif charnum == -51:\n",
        "      charnum = 27\n",
        "    elif charnum == -53:\n",
        "      charnum = 28\n",
        "    elif charnum == -34:\n",
        "       charnum = 29\n",
        "    elif charnum == -57:\n",
        "       charnum = 30\n",
        "    elif charnum == -56:\n",
        "       charnum = 31\n",
        "    binarystring += DecimalToBinary(charnum).zfill(5)\n",
        "  return binarystring"
      ],
      "execution_count": 12,
      "outputs": []
    },
    {
      "cell_type": "code",
      "metadata": {
        "colab": {
          "base_uri": "https://localhost:8080/"
        },
        "id": "ily-3zFn9B00",
        "outputId": "77a38f74-12e3-49fc-d45b-687c7d0aa9fe"
      },
      "source": [
        "print(stringTodigit(message))"
      ],
      "execution_count": 13,
      "outputs": [
        {
          "output_type": "stream",
          "name": "stdout",
          "text": [
            "0000000001000101101000111011101011011010110000111010100110100001101110010000110100110110101101111100111011111011111\n"
          ]
        }
      ]
    },
    {
      "cell_type": "code",
      "metadata": {
        "id": "aTdw4hd87Jrn"
      },
      "source": [
        "def digitTostring(message):\n",
        "  output = \"\"\n",
        "  Chr=\"\"\n",
        "  count=0\n",
        "  for i in message:\n",
        "    count+=1\n",
        "    Chr += i\n",
        "    if(count%5==0):\n",
        "      charnum=int(Chr,2)+97\n",
        "      if charnum == 26+97:\n",
        "        charnum = -65+97\n",
        "      elif charnum == 27+97:\n",
        "        charnum = -51+97\n",
        "      elif charnum == 28+97:\n",
        "        charnum = -53+97\n",
        "      elif charnum == 29+97:\n",
        "         charnum = -34+97\n",
        "      elif charnum == 30+97:\n",
        "         charnum = -57+97\n",
        "      elif charnum == 31+97:\n",
        "        charnum = -56+97\n",
        "      output += chr(charnum)\n",
        "      Chr=\"\"\n",
        "  return output"
      ],
      "execution_count": 14,
      "outputs": []
    },
    {
      "cell_type": "code",
      "metadata": {
        "id": "g2am6guMZBIL",
        "colab": {
          "base_uri": "https://localhost:8080/"
        },
        "outputId": "5c59a952-efc6-4096-cb86-e6f18a10ac69"
      },
      "source": [
        "message = \"ABC how you doing .,?()\"\n",
        "key=keyshareA\n",
        "def xorop(msg,key):\n",
        "  def xor(chr,key):\n",
        "    output=\"\"\n",
        "    for i,j in zip(chr[::-1], key[::-1]):\n",
        "      if i==\"\":\n",
        "        output+=j\n",
        "      elif i==j:\n",
        "        output+='0'\n",
        "      elif i!=j:\n",
        "        output+='1'\n",
        "    return output[::-1]\n",
        "  output=\"\"\n",
        "  chr=\"\"\n",
        "  count = 1\n",
        "  for i in msg:\n",
        "    chr += i\n",
        "    if(count%5==0):\n",
        "      output+=xor(chr,key)\n",
        "      chr=\"\"\n",
        "    count+=1\n",
        "  return output\n",
        "\n",
        "result=xorop(stringTodigit(message),DecimalToBinary(keyshareA))\n",
        "print(result)\n",
        "rcvd = xorop(result,DecimalToBinary(keyshareA))\n",
        "\n",
        "print(digitTostring(rcvd))"
      ],
      "execution_count": 15,
      "outputs": [
        {
          "output_type": "stream",
          "name": "stdout",
          "text": [
            "0100001001010101001001111001101111010010100000011011100100100101100110000000010101110100101001110100101011011010111\n",
            "abc how you doing .,?()\n"
          ]
        }
      ]
    },
    {
      "cell_type": "code",
      "metadata": {
        "colab": {
          "base_uri": "https://localhost:8080/"
        },
        "id": "Zh4A9Lj57ngR",
        "outputId": "7d86e34f-de9f-4bcf-fe73-1342a795c5fc"
      },
      "source": [
        "print(result)#encrypting binary with shared key\n",
        "rcvd = xorop(result,DecimalToBinary(keyshareA))\n",
        "print(rcvd)#decrypting message back to binary using XOR \n",
        "print(digitTostring(rcvd))#decrypting binary back to letters"
      ],
      "execution_count": 16,
      "outputs": [
        {
          "output_type": "stream",
          "name": "stdout",
          "text": [
            "0100001001010101001001111001101111010010100000011011100100100101100110000000010101110100101001110100101011011010111\n",
            "0000000001000101101000111011101011011010110000111010100110100001101110010000110100110110101101111100111011111011111\n",
            "abc how you doing .,?()\n"
          ]
        }
      ]
    },
    {
      "cell_type": "markdown",
      "metadata": {
        "id": "ZLT4npKHanza"
      },
      "source": []
    },
    {
      "cell_type": "markdown",
      "metadata": {
        "id": "HWSUUdv3pAza"
      },
      "source": []
    }
  ]
}